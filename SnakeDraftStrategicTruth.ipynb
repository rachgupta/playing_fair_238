{
  "cells": [
    {
      "cell_type": "code",
      "execution_count": 2,
      "metadata": {
        "id": "D7uq1JPn2rg7"
      },
      "outputs": [],
      "source": [
        "import numpy as np, numpy.random\n",
        "import pandas as pd\n",
        "from sklearn.preprocessing import normalize\n",
        "import copy"
      ]
    },
    {
      "cell_type": "markdown",
      "metadata": {
        "id": "Cohb9QXe3AH-"
      },
      "source": [
        "Import Dataset"
      ]
    },
    {
      "cell_type": "code",
      "execution_count": 3,
      "metadata": {
        "id": "H7VlO-8Sf3Ls",
        "colab": {
          "base_uri": "https://localhost:8080/",
          "height": 73
        },
        "outputId": "cddc3b89-fd32-4b19-926e-b122c364dabe"
      },
      "outputs": [
        {
          "output_type": "display_data",
          "data": {
            "text/plain": [
              "<IPython.core.display.HTML object>"
            ],
            "text/html": [
              "\n",
              "     <input type=\"file\" id=\"files-42e89a66-fdf6-4de2-9333-b9c02ff7d14d\" name=\"files[]\" multiple disabled\n",
              "        style=\"border:none\" />\n",
              "     <output id=\"result-42e89a66-fdf6-4de2-9333-b9c02ff7d14d\">\n",
              "      Upload widget is only available when the cell has been executed in the\n",
              "      current browser session. Please rerun this cell to enable.\n",
              "      </output>\n",
              "      <script>// Copyright 2017 Google LLC\n",
              "//\n",
              "// Licensed under the Apache License, Version 2.0 (the \"License\");\n",
              "// you may not use this file except in compliance with the License.\n",
              "// You may obtain a copy of the License at\n",
              "//\n",
              "//      http://www.apache.org/licenses/LICENSE-2.0\n",
              "//\n",
              "// Unless required by applicable law or agreed to in writing, software\n",
              "// distributed under the License is distributed on an \"AS IS\" BASIS,\n",
              "// WITHOUT WARRANTIES OR CONDITIONS OF ANY KIND, either express or implied.\n",
              "// See the License for the specific language governing permissions and\n",
              "// limitations under the License.\n",
              "\n",
              "/**\n",
              " * @fileoverview Helpers for google.colab Python module.\n",
              " */\n",
              "(function(scope) {\n",
              "function span(text, styleAttributes = {}) {\n",
              "  const element = document.createElement('span');\n",
              "  element.textContent = text;\n",
              "  for (const key of Object.keys(styleAttributes)) {\n",
              "    element.style[key] = styleAttributes[key];\n",
              "  }\n",
              "  return element;\n",
              "}\n",
              "\n",
              "// Max number of bytes which will be uploaded at a time.\n",
              "const MAX_PAYLOAD_SIZE = 100 * 1024;\n",
              "\n",
              "function _uploadFiles(inputId, outputId) {\n",
              "  const steps = uploadFilesStep(inputId, outputId);\n",
              "  const outputElement = document.getElementById(outputId);\n",
              "  // Cache steps on the outputElement to make it available for the next call\n",
              "  // to uploadFilesContinue from Python.\n",
              "  outputElement.steps = steps;\n",
              "\n",
              "  return _uploadFilesContinue(outputId);\n",
              "}\n",
              "\n",
              "// This is roughly an async generator (not supported in the browser yet),\n",
              "// where there are multiple asynchronous steps and the Python side is going\n",
              "// to poll for completion of each step.\n",
              "// This uses a Promise to block the python side on completion of each step,\n",
              "// then passes the result of the previous step as the input to the next step.\n",
              "function _uploadFilesContinue(outputId) {\n",
              "  const outputElement = document.getElementById(outputId);\n",
              "  const steps = outputElement.steps;\n",
              "\n",
              "  const next = steps.next(outputElement.lastPromiseValue);\n",
              "  return Promise.resolve(next.value.promise).then((value) => {\n",
              "    // Cache the last promise value to make it available to the next\n",
              "    // step of the generator.\n",
              "    outputElement.lastPromiseValue = value;\n",
              "    return next.value.response;\n",
              "  });\n",
              "}\n",
              "\n",
              "/**\n",
              " * Generator function which is called between each async step of the upload\n",
              " * process.\n",
              " * @param {string} inputId Element ID of the input file picker element.\n",
              " * @param {string} outputId Element ID of the output display.\n",
              " * @return {!Iterable<!Object>} Iterable of next steps.\n",
              " */\n",
              "function* uploadFilesStep(inputId, outputId) {\n",
              "  const inputElement = document.getElementById(inputId);\n",
              "  inputElement.disabled = false;\n",
              "\n",
              "  const outputElement = document.getElementById(outputId);\n",
              "  outputElement.innerHTML = '';\n",
              "\n",
              "  const pickedPromise = new Promise((resolve) => {\n",
              "    inputElement.addEventListener('change', (e) => {\n",
              "      resolve(e.target.files);\n",
              "    });\n",
              "  });\n",
              "\n",
              "  const cancel = document.createElement('button');\n",
              "  inputElement.parentElement.appendChild(cancel);\n",
              "  cancel.textContent = 'Cancel upload';\n",
              "  const cancelPromise = new Promise((resolve) => {\n",
              "    cancel.onclick = () => {\n",
              "      resolve(null);\n",
              "    };\n",
              "  });\n",
              "\n",
              "  // Wait for the user to pick the files.\n",
              "  const files = yield {\n",
              "    promise: Promise.race([pickedPromise, cancelPromise]),\n",
              "    response: {\n",
              "      action: 'starting',\n",
              "    }\n",
              "  };\n",
              "\n",
              "  cancel.remove();\n",
              "\n",
              "  // Disable the input element since further picks are not allowed.\n",
              "  inputElement.disabled = true;\n",
              "\n",
              "  if (!files) {\n",
              "    return {\n",
              "      response: {\n",
              "        action: 'complete',\n",
              "      }\n",
              "    };\n",
              "  }\n",
              "\n",
              "  for (const file of files) {\n",
              "    const li = document.createElement('li');\n",
              "    li.append(span(file.name, {fontWeight: 'bold'}));\n",
              "    li.append(span(\n",
              "        `(${file.type || 'n/a'}) - ${file.size} bytes, ` +\n",
              "        `last modified: ${\n",
              "            file.lastModifiedDate ? file.lastModifiedDate.toLocaleDateString() :\n",
              "                                    'n/a'} - `));\n",
              "    const percent = span('0% done');\n",
              "    li.appendChild(percent);\n",
              "\n",
              "    outputElement.appendChild(li);\n",
              "\n",
              "    const fileDataPromise = new Promise((resolve) => {\n",
              "      const reader = new FileReader();\n",
              "      reader.onload = (e) => {\n",
              "        resolve(e.target.result);\n",
              "      };\n",
              "      reader.readAsArrayBuffer(file);\n",
              "    });\n",
              "    // Wait for the data to be ready.\n",
              "    let fileData = yield {\n",
              "      promise: fileDataPromise,\n",
              "      response: {\n",
              "        action: 'continue',\n",
              "      }\n",
              "    };\n",
              "\n",
              "    // Use a chunked sending to avoid message size limits. See b/62115660.\n",
              "    let position = 0;\n",
              "    do {\n",
              "      const length = Math.min(fileData.byteLength - position, MAX_PAYLOAD_SIZE);\n",
              "      const chunk = new Uint8Array(fileData, position, length);\n",
              "      position += length;\n",
              "\n",
              "      const base64 = btoa(String.fromCharCode.apply(null, chunk));\n",
              "      yield {\n",
              "        response: {\n",
              "          action: 'append',\n",
              "          file: file.name,\n",
              "          data: base64,\n",
              "        },\n",
              "      };\n",
              "\n",
              "      let percentDone = fileData.byteLength === 0 ?\n",
              "          100 :\n",
              "          Math.round((position / fileData.byteLength) * 100);\n",
              "      percent.textContent = `${percentDone}% done`;\n",
              "\n",
              "    } while (position < fileData.byteLength);\n",
              "  }\n",
              "\n",
              "  // All done.\n",
              "  yield {\n",
              "    response: {\n",
              "      action: 'complete',\n",
              "    }\n",
              "  };\n",
              "}\n",
              "\n",
              "scope.google = scope.google || {};\n",
              "scope.google.colab = scope.google.colab || {};\n",
              "scope.google.colab._files = {\n",
              "  _uploadFiles,\n",
              "  _uploadFilesContinue,\n",
              "};\n",
              "})(self);\n",
              "</script> "
            ]
          },
          "metadata": {}
        },
        {
          "output_type": "stream",
          "name": "stdout",
          "text": [
            "Saving final.csv to final.csv\n"
          ]
        }
      ],
      "source": [
        "from google.colab import files\n",
        "data_to_load = files.upload()"
      ]
    },
    {
      "cell_type": "code",
      "execution_count": 4,
      "metadata": {
        "id": "WcWWU4F2f4WL"
      },
      "outputs": [],
      "source": [
        "import io\n",
        "truth_data = pd.read_csv(io.BytesIO(data_to_load['final.csv']))\n",
        "truth_data = truth_data.loc[:, ['TTL', 'STDEV','Pos']]\n",
        "truth_data = truth_data.assign(Player_ID=range(len(truth_data)))\n",
        "truth_data = truth_data.rename(columns={\"TTL\": \"True Value\", \"STDEV\": \"STD\",'Pos':'Position','Player_ID':'Player ID'})"
      ]
    },
    {
      "cell_type": "markdown",
      "source": [],
      "metadata": {
        "id": "6VxlH25RTQg1"
      }
    },
    {
      "cell_type": "code",
      "execution_count": 5,
      "metadata": {
        "id": "PRDI-HbdIg8e"
      },
      "outputs": [],
      "source": [
        "constraints = {\"QB\":1, \"RB\":2, \"WR\": 2, \"TE\": 1, \"K\":1, \"DST\":1}\n",
        "player_dict = {}\n",
        "for i in constraints.keys():\n",
        "  player_dict[i] = list(truth_data.loc[truth_data['Position'] == i][\"Player ID\"])"
      ]
    },
    {
      "cell_type": "code",
      "execution_count": 6,
      "metadata": {
        "id": "GiA5pgHYjpeF"
      },
      "outputs": [],
      "source": [
        "def generate_noisy_values(N,truth_data):\n",
        "  values = np.ones((N,len(truth_data)))\n",
        "  for n in range(N):\n",
        "    for player_id in range(len(truth_data)):\n",
        "      value = np.random.normal(pd.to_numeric(truth_data[\"True Value\"][player_id]), pd.to_numeric(truth_data[\"STD\"][player_id]), 1)[0]\n",
        "      if(value<0):\n",
        "        value = 0\n",
        "      values[n,player_id] = value\n",
        "  values = normalize(values, axis=1, norm='l1')\n",
        "  return values"
      ]
    },
    {
      "cell_type": "code",
      "execution_count": 7,
      "metadata": {
        "id": "zVq8Ge3PmpfY"
      },
      "outputs": [],
      "source": [
        "def draft(values, players_dict, constraints,N,naive):\n",
        "  V = np.copy(values)\n",
        "  players_left = copy.deepcopy(players_dict);\n",
        "  allocation_dict = {}\n",
        "  for n in range(N):\n",
        "    allocation_dict[n]=[]\n",
        "  order = list(range(N))\n",
        "  np.random.shuffle(order)\n",
        "  contin = True\n",
        "  #continue until all players are allocated\n",
        "  while(contin):\n",
        "    agents_full_status = numpy.full((N, len(players_left.keys())), False)\n",
        "    for n in order:\n",
        "      opportunity_cost = []\n",
        "      best_option = []\n",
        "      pools = list(players_left.keys())\n",
        "      #for each person, they need to figure out which pool to pick the best player for. To do so, we'll look at the opportunity cost\n",
        "      for i in range(len(pools)):\n",
        "        pool = pools[i]\n",
        "        num_already_in_class = len(set(allocation_dict[n]).intersection(players_dict[pool]))\n",
        "        num_needed = constraints[pool] - num_already_in_class\n",
        "        #if that class is full, no need to consider it\n",
        "        if(num_needed <= 0):\n",
        "          agents_full_status[n,i] = True\n",
        "          opportunity_cost.append(-1)\n",
        "          best_option.append(-1)\n",
        "        else:\n",
        "          #figure out how many turns before they can go again in this class\n",
        "          risky_agents = [j for j in range(n,N) if agents_full_status[j,i]==False]\n",
        "          turns = len(risky_agents)\n",
        "          #check if they need more than 1 player from that pool to see if they can potentially pick 2 before n picks again\n",
        "          for comp in risky_agents:\n",
        "            comp_num = constraints[pool] - len(set(allocation_dict[comp]).intersection(players_dict[pool]))\n",
        "            if(comp_num>1):\n",
        "              turns = turns + 1\n",
        "          #calculate value of remaining players\n",
        "          pool_values = []\n",
        "          for player in players_left[pool]:\n",
        "            pool_values.append(V[n,player])\n",
        "          #if you are guaranteed the last few you're good\n",
        "          if(num_needed == len(players_left[pool])):\n",
        "            opportunity_cost.append(0)\n",
        "          else:\n",
        "            #calculate opportunity_cost\n",
        "            if (turns>=len(players_left[pool])):\n",
        "              opportunity_cost.append(max(pool_values) - min(pool_values))\n",
        "            else:\n",
        "              opportunity_cost.append(max(pool_values) - sorted(pool_values)[-turns])\n",
        "          best_option.append(players_left[pool][pool_values.index(max(pool_values))])\n",
        "      #done with everything!\n",
        "      if(max(opportunity_cost)==-1):\n",
        "        agents_full_status[n,:] = True\n",
        "      else:\n",
        "        #if its naive then act greedily\n",
        "        if(n in naive):\n",
        "          values_of_remaining = []\n",
        "          indices = []\n",
        "          #compile the remaining player values\n",
        "          for pool_i in range(len(players_left.keys())):\n",
        "            if(opportunity_cost[pool_i]!=-1):\n",
        "              for player in players_left[pools[pool_i]]:\n",
        "                values_of_remaining.append(V[n,player])\n",
        "                indices.append(player)\n",
        "          #get greedy best and allocate\n",
        "          greedy_best = indices[values_of_remaining.index(max(values_of_remaining))]\n",
        "          chosen_pool = [i for i in players_dict if players_dict[i].count(greedy_best)>0][0]\n",
        "          temp = allocation_dict[n]\n",
        "          temp.append(greedy_best)\n",
        "          allocation_dict[n] = temp\n",
        "          #remove it from players_left\n",
        "          temp_2 = players_left[chosen_pool]\n",
        "          temp_2.remove(greedy_best)\n",
        "          players_left[chosen_pool] = temp_2\n",
        "          if(len(allocation_dict[n])>15):\n",
        "            print(opportunity_cost)\n",
        "        else:\n",
        "          #get the pool with the highest opportunity cost\n",
        "          index_of_pool = opportunity_cost.index(max(opportunity_cost))\n",
        "          pool_name = list(constraints.keys())[index_of_pool]\n",
        "          #allocate the player to n\n",
        "          temp = allocation_dict[n]\n",
        "          temp.append(best_option[index_of_pool])\n",
        "          allocation_dict[n] = temp\n",
        "          #remove it from players_left\n",
        "          temp_2 = players_left[pool_name]\n",
        "          temp_2.remove(best_option[index_of_pool])\n",
        "          players_left[pool_name] = temp_2\n",
        "    #all agents teams full\n",
        "    if(agents_full_status.all()):\n",
        "      contin = False\n",
        "    #reverse for snake draft\n",
        "    order.reverse()\n",
        "  return allocation_dict;"
      ]
    },
    {
      "cell_type": "code",
      "execution_count": 8,
      "metadata": {
        "id": "W-8_GW3CQ57Q"
      },
      "outputs": [],
      "source": [
        "def evaluate_allocation(values, allocation,N,truth_data):\n",
        "  sw = 0\n",
        "  norm_alloc = 0\n",
        "  vals = []\n",
        "  for n in range(N):\n",
        "    alloc_value = 0\n",
        "    for i in allocation[n]:\n",
        "      alloc_value = alloc_value + values[n,i]\n",
        "    vals.append(alloc_value*len(truth_data)/len(allocation[n]))\n",
        "    norm_alloc = norm_alloc + alloc_value*len(truth_data)/len(allocation[n])\n",
        "    sw = sw + alloc_value\n",
        "  return sw, norm_alloc,vals"
      ]
    },
    {
      "cell_type": "code",
      "execution_count": 14,
      "metadata": {
        "id": "yZPtanWQ1TAi"
      },
      "outputs": [],
      "source": [
        "def run(N,truth_data,constraints,player_dict,naive):\n",
        "  data = []\n",
        "  for i in range(30):\n",
        "    values = generate_noisy_values(N,truth_data)\n",
        "    A = draft(values, player_dict, constraints,N,naive)\n",
        "    sw, norm_alloc, vals = evaluate_allocation(values, A, N,truth_data)\n",
        "    data.append(vals)\n",
        "  from statistics import mean\n",
        "  print(*map(mean, zip(*data)))"
      ]
    },
    {
      "cell_type": "code",
      "execution_count": 15,
      "metadata": {
        "id": "LCzSizPLQnuJ",
        "colab": {
          "base_uri": "https://localhost:8080/"
        },
        "outputId": "6cc57e72-64d2-47db-de55-87090dcc1a4c"
      },
      "outputs": [
        {
          "output_type": "stream",
          "name": "stdout",
          "text": [
            "2.576178100737645 2.5619443749545523 2.5393950016622218 2.511363308360277\n"
          ]
        }
      ],
      "source": [
        "run(4, truth_data, constraints, player_dict,[])"
      ]
    }
  ],
  "metadata": {
    "colab": {
      "provenance": []
    },
    "kernelspec": {
      "display_name": "Python 3",
      "name": "python3"
    },
    "language_info": {
      "name": "python"
    }
  },
  "nbformat": 4,
  "nbformat_minor": 0
}